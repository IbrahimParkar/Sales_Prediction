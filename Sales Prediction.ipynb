{
 "cells": [
  {
   "cell_type": "markdown",
   "id": "DKI-D1pad14-",
   "metadata": {
    "id": "DKI-D1pad14-"
   },
   "source": [
    "# Sales Prediction\n",
    "Introduction:\r\n",
    "\r\n",
    "The Sales Prediction project aims to utilize machine learning models, including linear regression, to forecast product sales based on advertising expenditures across different channels. The dataset used for this project is obtained from Kaggle, a prominent platform for data science and machine learning enthusiasts. It consists of four key columns: TV, Radio, Newspaper, and Sales, representing the advertising spending on TV, radio, and newspaper platforms, along with the corresponding sales figures.\r\n",
    "\r\n",
    "The primary goal of this project is to develop predictive models capable of estimating sales figures based on investments made in each advertising channel. By analyzing historical data and understanding the relationships between advertising expenditures and sales outcomes, businesses can optimize their advertising strategies and make informed decisions to maximize revenue generation.\r\n",
    "\r\n",
    "This sales prediction project employs Python programming language and various machine learning libraries to preprocess the Kaggle dataset, train predictive models, and evaluate their performance. With the trained models, businesses can forecast sales figures based on planned advertising budgets, enabling them to allocate resources efficiently and optimize their advertising campaigns.\r\n",
    "\r\n",
    "The ultimate output of this project will be a robust sales prediction model providing insights into expected sales figures based on investments in TV, radio, and newspaper advertising channels. By harnessing the power of machine learning and leveraging the Kaggle dataset, businesses can enhance their sales forecasting accuracy and make data-driven decisions to drive profitability and achieve sustainable"
   ]
  },
  {
   "cell_type": "code",
   "execution_count": 1,
   "id": "fdb31f90",
   "metadata": {
    "_cell_guid": "b1076dfc-b9ad-4769-8c92-a6c4dae69d19",
    "_uuid": "8f2839f25d086af736a60e9eeb907d3b93b6e0e5",
    "executionInfo": {
     "elapsed": 777,
     "status": "ok",
     "timestamp": 1687077866447,
     "user": {
      "displayName": "ibrahim parkar",
      "userId": "08813320457498580260"
     },
     "user_tz": -330
    },
    "id": "fdb31f90",
    "papermill": {
     "duration": 0.039683,
     "end_time": "2023-01-02T17:39:18.457115",
     "exception": false,
     "start_time": "2023-01-02T17:39:18.417432",
     "status": "completed"
    },
    "tags": []
   },
   "outputs": [],
   "source": [
    "#importing required libraries\n",
    "import numpy as np # Importing numpy library for numerical computations\n",
    "import pandas as pd # Import pandas library for data manipulation and analysis\n",
    "import seaborn as sns\n",
    "from sklearn.preprocessing import QuantileTransformer\n",
    "from sklearn.preprocessing import StandardScaler,MinMaxScaler"
   ]
  },
  {
   "cell_type": "code",
   "execution_count": 2,
   "id": "d71b1b3d",
   "metadata": {
    "colab": {
     "base_uri": "https://localhost:8080/",
     "height": 206
    },
    "executionInfo": {
     "elapsed": 11,
     "status": "ok",
     "timestamp": 1687077866448,
     "user": {
      "displayName": "ibrahim parkar",
      "userId": "08813320457498580260"
     },
     "user_tz": -330
    },
    "id": "d71b1b3d",
    "outputId": "52731e5a-0ddc-4c50-f87f-e775666108d0",
    "papermill": {
     "duration": 0.029711,
     "end_time": "2023-01-02T17:39:18.527786",
     "exception": false,
     "start_time": "2023-01-02T17:39:18.498075",
     "status": "completed"
    },
    "tags": []
   },
   "outputs": [
    {
     "data": {
      "text/html": [
       "<div>\n",
       "<style scoped>\n",
       "    .dataframe tbody tr th:only-of-type {\n",
       "        vertical-align: middle;\n",
       "    }\n",
       "\n",
       "    .dataframe tbody tr th {\n",
       "        vertical-align: top;\n",
       "    }\n",
       "\n",
       "    .dataframe thead th {\n",
       "        text-align: right;\n",
       "    }\n",
       "</style>\n",
       "<table border=\"1\" class=\"dataframe\">\n",
       "  <thead>\n",
       "    <tr style=\"text-align: right;\">\n",
       "      <th></th>\n",
       "      <th>Unnamed: 0</th>\n",
       "      <th>TV</th>\n",
       "      <th>Radio</th>\n",
       "      <th>Newspaper</th>\n",
       "      <th>Sales</th>\n",
       "    </tr>\n",
       "  </thead>\n",
       "  <tbody>\n",
       "    <tr>\n",
       "      <th>0</th>\n",
       "      <td>1</td>\n",
       "      <td>230.1</td>\n",
       "      <td>37.8</td>\n",
       "      <td>69.2</td>\n",
       "      <td>22.1</td>\n",
       "    </tr>\n",
       "    <tr>\n",
       "      <th>1</th>\n",
       "      <td>2</td>\n",
       "      <td>44.5</td>\n",
       "      <td>39.3</td>\n",
       "      <td>45.1</td>\n",
       "      <td>10.4</td>\n",
       "    </tr>\n",
       "    <tr>\n",
       "      <th>2</th>\n",
       "      <td>3</td>\n",
       "      <td>17.2</td>\n",
       "      <td>45.9</td>\n",
       "      <td>69.3</td>\n",
       "      <td>9.3</td>\n",
       "    </tr>\n",
       "    <tr>\n",
       "      <th>3</th>\n",
       "      <td>4</td>\n",
       "      <td>151.5</td>\n",
       "      <td>41.3</td>\n",
       "      <td>58.5</td>\n",
       "      <td>18.5</td>\n",
       "    </tr>\n",
       "    <tr>\n",
       "      <th>4</th>\n",
       "      <td>5</td>\n",
       "      <td>180.8</td>\n",
       "      <td>10.8</td>\n",
       "      <td>58.4</td>\n",
       "      <td>12.9</td>\n",
       "    </tr>\n",
       "  </tbody>\n",
       "</table>\n",
       "</div>"
      ],
      "text/plain": [
       "   Unnamed: 0     TV  Radio  Newspaper  Sales\n",
       "0           1  230.1   37.8       69.2   22.1\n",
       "1           2   44.5   39.3       45.1   10.4\n",
       "2           3   17.2   45.9       69.3    9.3\n",
       "3           4  151.5   41.3       58.5   18.5\n",
       "4           5  180.8   10.8       58.4   12.9"
      ]
     },
     "execution_count": 2,
     "metadata": {},
     "output_type": "execute_result"
    }
   ],
   "source": [
    "df=pd.read_csv('Advertising.csv') # Reading the dataset into a dataframe using the pandas library\n",
    "df.head() # displays the first 5 rows of the DataFrame"
   ]
  },
  {
   "cell_type": "code",
   "execution_count": 3,
   "id": "YnM2DPHOQtVj",
   "metadata": {
    "colab": {
     "base_uri": "https://localhost:8080/",
     "height": 206
    },
    "executionInfo": {
     "elapsed": 10,
     "status": "ok",
     "timestamp": 1687077866448,
     "user": {
      "displayName": "ibrahim parkar",
      "userId": "08813320457498580260"
     },
     "user_tz": -330
    },
    "id": "YnM2DPHOQtVj",
    "outputId": "a93381e9-0199-4986-926f-11552077daa7"
   },
   "outputs": [
    {
     "data": {
      "text/html": [
       "<div>\n",
       "<style scoped>\n",
       "    .dataframe tbody tr th:only-of-type {\n",
       "        vertical-align: middle;\n",
       "    }\n",
       "\n",
       "    .dataframe tbody tr th {\n",
       "        vertical-align: top;\n",
       "    }\n",
       "\n",
       "    .dataframe thead th {\n",
       "        text-align: right;\n",
       "    }\n",
       "</style>\n",
       "<table border=\"1\" class=\"dataframe\">\n",
       "  <thead>\n",
       "    <tr style=\"text-align: right;\">\n",
       "      <th></th>\n",
       "      <th>TV</th>\n",
       "      <th>Radio</th>\n",
       "      <th>Newspaper</th>\n",
       "      <th>Sales</th>\n",
       "    </tr>\n",
       "  </thead>\n",
       "  <tbody>\n",
       "    <tr>\n",
       "      <th>0</th>\n",
       "      <td>230.1</td>\n",
       "      <td>37.8</td>\n",
       "      <td>69.2</td>\n",
       "      <td>22.1</td>\n",
       "    </tr>\n",
       "    <tr>\n",
       "      <th>1</th>\n",
       "      <td>44.5</td>\n",
       "      <td>39.3</td>\n",
       "      <td>45.1</td>\n",
       "      <td>10.4</td>\n",
       "    </tr>\n",
       "    <tr>\n",
       "      <th>2</th>\n",
       "      <td>17.2</td>\n",
       "      <td>45.9</td>\n",
       "      <td>69.3</td>\n",
       "      <td>9.3</td>\n",
       "    </tr>\n",
       "    <tr>\n",
       "      <th>3</th>\n",
       "      <td>151.5</td>\n",
       "      <td>41.3</td>\n",
       "      <td>58.5</td>\n",
       "      <td>18.5</td>\n",
       "    </tr>\n",
       "    <tr>\n",
       "      <th>4</th>\n",
       "      <td>180.8</td>\n",
       "      <td>10.8</td>\n",
       "      <td>58.4</td>\n",
       "      <td>12.9</td>\n",
       "    </tr>\n",
       "  </tbody>\n",
       "</table>\n",
       "</div>"
      ],
      "text/plain": [
       "      TV  Radio  Newspaper  Sales\n",
       "0  230.1   37.8       69.2   22.1\n",
       "1   44.5   39.3       45.1   10.4\n",
       "2   17.2   45.9       69.3    9.3\n",
       "3  151.5   41.3       58.5   18.5\n",
       "4  180.8   10.8       58.4   12.9"
      ]
     },
     "execution_count": 3,
     "metadata": {},
     "output_type": "execute_result"
    }
   ],
   "source": [
    "df=df.drop(columns=[\"Unnamed: 0\"]) # dropping useless column\n",
    "df.head() # displays the first 5 rows of the DataFrame"
   ]
  },
  {
   "cell_type": "code",
   "execution_count": 4,
   "id": "a63027e1",
   "metadata": {
    "colab": {
     "base_uri": "https://localhost:8080/"
    },
    "executionInfo": {
     "elapsed": 9,
     "status": "ok",
     "timestamp": 1687077866448,
     "user": {
      "displayName": "ibrahim parkar",
      "userId": "08813320457498580260"
     },
     "user_tz": -330
    },
    "id": "a63027e1",
    "outputId": "c4a070cf-abab-4673-f80c-ab492b8153bf",
    "papermill": {
     "duration": 0.021004,
     "end_time": "2023-01-02T17:39:18.705339",
     "exception": false,
     "start_time": "2023-01-02T17:39:18.684335",
     "status": "completed"
    },
    "tags": []
   },
   "outputs": [
    {
     "data": {
      "text/plain": [
       "(200, 4)"
      ]
     },
     "execution_count": 4,
     "metadata": {},
     "output_type": "execute_result"
    }
   ],
   "source": [
    "df.shape # returns the dimensions (rows, columns) of the DataFrame."
   ]
  },
  {
   "cell_type": "code",
   "execution_count": 5,
   "id": "hFvim13TJXlM",
   "metadata": {
    "colab": {
     "base_uri": "https://localhost:8080/"
    },
    "executionInfo": {
     "elapsed": 12,
     "status": "ok",
     "timestamp": 1687077867307,
     "user": {
      "displayName": "ibrahim parkar",
      "userId": "08813320457498580260"
     },
     "user_tz": -330
    },
    "id": "hFvim13TJXlM",
    "outputId": "2d02b88e-07c9-4d8b-dc2d-8c32b17558a6"
   },
   "outputs": [
    {
     "name": "stdout",
     "output_type": "stream",
     "text": [
      "<class 'pandas.core.frame.DataFrame'>\n",
      "RangeIndex: 200 entries, 0 to 199\n",
      "Data columns (total 4 columns):\n",
      " #   Column     Non-Null Count  Dtype  \n",
      "---  ------     --------------  -----  \n",
      " 0   TV         200 non-null    float64\n",
      " 1   Radio      200 non-null    float64\n",
      " 2   Newspaper  200 non-null    float64\n",
      " 3   Sales      200 non-null    float64\n",
      "dtypes: float64(4)\n",
      "memory usage: 6.4 KB\n"
     ]
    }
   ],
   "source": [
    "df.info() # provides a concise summary of the DataFrame's structure and content."
   ]
  },
  {
   "cell_type": "code",
   "execution_count": 6,
   "id": "8juudYFbJbgQ",
   "metadata": {
    "colab": {
     "base_uri": "https://localhost:8080/",
     "height": 300
    },
    "executionInfo": {
     "elapsed": 12,
     "status": "ok",
     "timestamp": 1687077867308,
     "user": {
      "displayName": "ibrahim parkar",
      "userId": "08813320457498580260"
     },
     "user_tz": -330
    },
    "id": "8juudYFbJbgQ",
    "outputId": "6dba4d3f-cbfb-4cd9-e79c-af04aa4219d0"
   },
   "outputs": [
    {
     "data": {
      "text/html": [
       "<div>\n",
       "<style scoped>\n",
       "    .dataframe tbody tr th:only-of-type {\n",
       "        vertical-align: middle;\n",
       "    }\n",
       "\n",
       "    .dataframe tbody tr th {\n",
       "        vertical-align: top;\n",
       "    }\n",
       "\n",
       "    .dataframe thead th {\n",
       "        text-align: right;\n",
       "    }\n",
       "</style>\n",
       "<table border=\"1\" class=\"dataframe\">\n",
       "  <thead>\n",
       "    <tr style=\"text-align: right;\">\n",
       "      <th></th>\n",
       "      <th>TV</th>\n",
       "      <th>Radio</th>\n",
       "      <th>Newspaper</th>\n",
       "      <th>Sales</th>\n",
       "    </tr>\n",
       "  </thead>\n",
       "  <tbody>\n",
       "    <tr>\n",
       "      <th>count</th>\n",
       "      <td>200.000000</td>\n",
       "      <td>200.000000</td>\n",
       "      <td>200.000000</td>\n",
       "      <td>200.000000</td>\n",
       "    </tr>\n",
       "    <tr>\n",
       "      <th>mean</th>\n",
       "      <td>147.042500</td>\n",
       "      <td>23.264000</td>\n",
       "      <td>30.554000</td>\n",
       "      <td>14.022500</td>\n",
       "    </tr>\n",
       "    <tr>\n",
       "      <th>std</th>\n",
       "      <td>85.854236</td>\n",
       "      <td>14.846809</td>\n",
       "      <td>21.778621</td>\n",
       "      <td>5.217457</td>\n",
       "    </tr>\n",
       "    <tr>\n",
       "      <th>min</th>\n",
       "      <td>0.700000</td>\n",
       "      <td>0.000000</td>\n",
       "      <td>0.300000</td>\n",
       "      <td>1.600000</td>\n",
       "    </tr>\n",
       "    <tr>\n",
       "      <th>25%</th>\n",
       "      <td>74.375000</td>\n",
       "      <td>9.975000</td>\n",
       "      <td>12.750000</td>\n",
       "      <td>10.375000</td>\n",
       "    </tr>\n",
       "    <tr>\n",
       "      <th>50%</th>\n",
       "      <td>149.750000</td>\n",
       "      <td>22.900000</td>\n",
       "      <td>25.750000</td>\n",
       "      <td>12.900000</td>\n",
       "    </tr>\n",
       "    <tr>\n",
       "      <th>75%</th>\n",
       "      <td>218.825000</td>\n",
       "      <td>36.525000</td>\n",
       "      <td>45.100000</td>\n",
       "      <td>17.400000</td>\n",
       "    </tr>\n",
       "    <tr>\n",
       "      <th>max</th>\n",
       "      <td>296.400000</td>\n",
       "      <td>49.600000</td>\n",
       "      <td>114.000000</td>\n",
       "      <td>27.000000</td>\n",
       "    </tr>\n",
       "  </tbody>\n",
       "</table>\n",
       "</div>"
      ],
      "text/plain": [
       "               TV       Radio   Newspaper       Sales\n",
       "count  200.000000  200.000000  200.000000  200.000000\n",
       "mean   147.042500   23.264000   30.554000   14.022500\n",
       "std     85.854236   14.846809   21.778621    5.217457\n",
       "min      0.700000    0.000000    0.300000    1.600000\n",
       "25%     74.375000    9.975000   12.750000   10.375000\n",
       "50%    149.750000   22.900000   25.750000   12.900000\n",
       "75%    218.825000   36.525000   45.100000   17.400000\n",
       "max    296.400000   49.600000  114.000000   27.000000"
      ]
     },
     "execution_count": 6,
     "metadata": {},
     "output_type": "execute_result"
    }
   ],
   "source": [
    "df.describe() # generates summary statistics of the DataFrame's numerical columns"
   ]
  },
  {
   "cell_type": "code",
   "execution_count": 7,
   "id": "16ede178-4955-41b8-a17c-2693c4972ca0",
   "metadata": {},
   "outputs": [
    {
     "data": {
      "text/plain": [
       "False"
      ]
     },
     "execution_count": 7,
     "metadata": {},
     "output_type": "execute_result"
    }
   ],
   "source": [
    "#Check if there are NA values.\n",
    "df.isnull().sum().any()"
   ]
  },
  {
   "cell_type": "code",
   "execution_count": 8,
   "id": "4558e10e-5c6b-499e-b8f9-5162c2f39951",
   "metadata": {},
   "outputs": [
    {
     "data": {
      "text/plain": [
       "0"
      ]
     },
     "execution_count": 8,
     "metadata": {},
     "output_type": "execute_result"
    }
   ],
   "source": [
    "#Check if there are duplicate values.\n",
    "df.duplicated().sum()"
   ]
  },
  {
   "cell_type": "code",
   "execution_count": 9,
   "id": "37064c1c-b1a8-423e-ad93-086b35ef33e5",
   "metadata": {},
   "outputs": [
    {
     "data": {
      "text/html": [
       "<div>\n",
       "<style scoped>\n",
       "    .dataframe tbody tr th:only-of-type {\n",
       "        vertical-align: middle;\n",
       "    }\n",
       "\n",
       "    .dataframe tbody tr th {\n",
       "        vertical-align: top;\n",
       "    }\n",
       "\n",
       "    .dataframe thead th {\n",
       "        text-align: right;\n",
       "    }\n",
       "</style>\n",
       "<table border=\"1\" class=\"dataframe\">\n",
       "  <thead>\n",
       "    <tr style=\"text-align: right;\">\n",
       "      <th></th>\n",
       "      <th>TV</th>\n",
       "      <th>Radio</th>\n",
       "      <th>Newspaper</th>\n",
       "      <th>Sales</th>\n",
       "    </tr>\n",
       "  </thead>\n",
       "  <tbody>\n",
       "    <tr>\n",
       "      <th>TV</th>\n",
       "      <td>1.000000</td>\n",
       "      <td>0.054809</td>\n",
       "      <td>0.056648</td>\n",
       "      <td>0.782224</td>\n",
       "    </tr>\n",
       "    <tr>\n",
       "      <th>Radio</th>\n",
       "      <td>0.054809</td>\n",
       "      <td>1.000000</td>\n",
       "      <td>0.354104</td>\n",
       "      <td>0.576223</td>\n",
       "    </tr>\n",
       "    <tr>\n",
       "      <th>Newspaper</th>\n",
       "      <td>0.056648</td>\n",
       "      <td>0.354104</td>\n",
       "      <td>1.000000</td>\n",
       "      <td>0.228299</td>\n",
       "    </tr>\n",
       "    <tr>\n",
       "      <th>Sales</th>\n",
       "      <td>0.782224</td>\n",
       "      <td>0.576223</td>\n",
       "      <td>0.228299</td>\n",
       "      <td>1.000000</td>\n",
       "    </tr>\n",
       "  </tbody>\n",
       "</table>\n",
       "</div>"
      ],
      "text/plain": [
       "                 TV     Radio  Newspaper     Sales\n",
       "TV         1.000000  0.054809   0.056648  0.782224\n",
       "Radio      0.054809  1.000000   0.354104  0.576223\n",
       "Newspaper  0.056648  0.354104   1.000000  0.228299\n",
       "Sales      0.782224  0.576223   0.228299  1.000000"
      ]
     },
     "execution_count": 9,
     "metadata": {},
     "output_type": "execute_result"
    }
   ],
   "source": [
    "df.corr()"
   ]
  },
  {
   "cell_type": "code",
   "execution_count": 10,
   "id": "812de849-3e33-4012-9bfe-7b26c8637d18",
   "metadata": {},
   "outputs": [
    {
     "data": {
      "text/html": [
       "<div>\n",
       "<style scoped>\n",
       "    .dataframe tbody tr th:only-of-type {\n",
       "        vertical-align: middle;\n",
       "    }\n",
       "\n",
       "    .dataframe tbody tr th {\n",
       "        vertical-align: top;\n",
       "    }\n",
       "\n",
       "    .dataframe thead th {\n",
       "        text-align: right;\n",
       "    }\n",
       "</style>\n",
       "<table border=\"1\" class=\"dataframe\">\n",
       "  <thead>\n",
       "    <tr style=\"text-align: right;\">\n",
       "      <th></th>\n",
       "      <th>skew</th>\n",
       "      <th>too_skewed</th>\n",
       "    </tr>\n",
       "  </thead>\n",
       "  <tbody>\n",
       "    <tr>\n",
       "      <th>TV</th>\n",
       "      <td>-0.069853</td>\n",
       "      <td>False</td>\n",
       "    </tr>\n",
       "    <tr>\n",
       "      <th>Radio</th>\n",
       "      <td>0.094175</td>\n",
       "      <td>False</td>\n",
       "    </tr>\n",
       "    <tr>\n",
       "      <th>Newspaper</th>\n",
       "      <td>0.894720</td>\n",
       "      <td>True</td>\n",
       "    </tr>\n",
       "  </tbody>\n",
       "</table>\n",
       "</div>"
      ],
      "text/plain": [
       "               skew  too_skewed\n",
       "TV        -0.069853       False\n",
       "Radio      0.094175       False\n",
       "Newspaper  0.894720        True"
      ]
     },
     "execution_count": 10,
     "metadata": {},
     "output_type": "execute_result"
    }
   ],
   "source": [
    "data_skew = df[['TV', 'Radio', 'Newspaper']]\n",
    "skew = pd.DataFrame(data_skew.skew())\n",
    "skew.columns = ['skew']\n",
    "skew['too_skewed'] = skew['skew'] > .75\n",
    "skew"
   ]
  },
  {
   "cell_type": "markdown",
   "id": "7b4ee807-d293-4265-b95d-0c2cc7d9bbcc",
   "metadata": {},
   "source": [
    "Newspaper column is too skewed"
   ]
  },
  {
   "cell_type": "code",
   "execution_count": 11,
   "id": "8d22a123-d338-42b0-ae0f-f007ed3b93fd",
   "metadata": {},
   "outputs": [],
   "source": [
    "qt = QuantileTransformer(n_quantiles=200, output_distribution='normal')\n",
    "df[['Newspaper']] = qt.fit_transform(df[['Newspaper']])"
   ]
  },
  {
   "cell_type": "code",
   "execution_count": 12,
   "id": "f09f1e4a-6f91-41e0-b0d1-7d1c8b69e0af",
   "metadata": {},
   "outputs": [
    {
     "data": {
      "text/html": [
       "<div>\n",
       "<style scoped>\n",
       "    .dataframe tbody tr th:only-of-type {\n",
       "        vertical-align: middle;\n",
       "    }\n",
       "\n",
       "    .dataframe tbody tr th {\n",
       "        vertical-align: top;\n",
       "    }\n",
       "\n",
       "    .dataframe thead th {\n",
       "        text-align: right;\n",
       "    }\n",
       "</style>\n",
       "<table border=\"1\" class=\"dataframe\">\n",
       "  <thead>\n",
       "    <tr style=\"text-align: right;\">\n",
       "      <th></th>\n",
       "      <th>skew</th>\n",
       "      <th>too_skewed</th>\n",
       "    </tr>\n",
       "  </thead>\n",
       "  <tbody>\n",
       "    <tr>\n",
       "      <th>TV</th>\n",
       "      <td>-0.069853</td>\n",
       "      <td>False</td>\n",
       "    </tr>\n",
       "    <tr>\n",
       "      <th>Radio</th>\n",
       "      <td>0.094175</td>\n",
       "      <td>False</td>\n",
       "    </tr>\n",
       "    <tr>\n",
       "      <th>Newspaper</th>\n",
       "      <td>0.000238</td>\n",
       "      <td>False</td>\n",
       "    </tr>\n",
       "  </tbody>\n",
       "</table>\n",
       "</div>"
      ],
      "text/plain": [
       "               skew  too_skewed\n",
       "TV        -0.069853       False\n",
       "Radio      0.094175       False\n",
       "Newspaper  0.000238       False"
      ]
     },
     "execution_count": 12,
     "metadata": {},
     "output_type": "execute_result"
    }
   ],
   "source": [
    "data_skew = df[['TV', 'Radio', 'Newspaper']]\n",
    "skew = pd.DataFrame(data_skew.skew())\n",
    "skew.columns = ['skew']\n",
    "skew['too_skewed'] = skew['skew'] > .75\n",
    "skew"
   ]
  },
  {
   "cell_type": "code",
   "execution_count": 13,
   "id": "f9f2a929-d522-42ee-808f-a1281550304d",
   "metadata": {},
   "outputs": [
    {
     "data": {
      "text/html": [
       "<div>\n",
       "<style scoped>\n",
       "    .dataframe tbody tr th:only-of-type {\n",
       "        vertical-align: middle;\n",
       "    }\n",
       "\n",
       "    .dataframe tbody tr th {\n",
       "        vertical-align: top;\n",
       "    }\n",
       "\n",
       "    .dataframe thead th {\n",
       "        text-align: right;\n",
       "    }\n",
       "</style>\n",
       "<table border=\"1\" class=\"dataframe\">\n",
       "  <thead>\n",
       "    <tr style=\"text-align: right;\">\n",
       "      <th></th>\n",
       "      <th>TV</th>\n",
       "      <th>Radio</th>\n",
       "      <th>Newspaper</th>\n",
       "      <th>Sales</th>\n",
       "    </tr>\n",
       "  </thead>\n",
       "  <tbody>\n",
       "    <tr>\n",
       "      <th>0</th>\n",
       "      <td>0.969852</td>\n",
       "      <td>0.981522</td>\n",
       "      <td>1.408193</td>\n",
       "      <td>22.1</td>\n",
       "    </tr>\n",
       "    <tr>\n",
       "      <th>1</th>\n",
       "      <td>-1.197376</td>\n",
       "      <td>1.082808</td>\n",
       "      <td>0.615594</td>\n",
       "      <td>10.4</td>\n",
       "    </tr>\n",
       "    <tr>\n",
       "      <th>2</th>\n",
       "      <td>-1.516155</td>\n",
       "      <td>1.528463</td>\n",
       "      <td>1.447620</td>\n",
       "      <td>9.3</td>\n",
       "    </tr>\n",
       "    <tr>\n",
       "      <th>3</th>\n",
       "      <td>0.052050</td>\n",
       "      <td>1.217855</td>\n",
       "      <td>1.086309</td>\n",
       "      <td>18.5</td>\n",
       "    </tr>\n",
       "    <tr>\n",
       "      <th>4</th>\n",
       "      <td>0.394182</td>\n",
       "      <td>-0.841614</td>\n",
       "      <td>1.063261</td>\n",
       "      <td>12.9</td>\n",
       "    </tr>\n",
       "  </tbody>\n",
       "</table>\n",
       "</div>"
      ],
      "text/plain": [
       "         TV     Radio  Newspaper  Sales\n",
       "0  0.969852  0.981522   1.408193   22.1\n",
       "1 -1.197376  1.082808   0.615594   10.4\n",
       "2 -1.516155  1.528463   1.447620    9.3\n",
       "3  0.052050  1.217855   1.086309   18.5\n",
       "4  0.394182 -0.841614   1.063261   12.9"
      ]
     },
     "execution_count": 13,
     "metadata": {},
     "output_type": "execute_result"
    }
   ],
   "source": [
    "sc = StandardScaler()\n",
    "df[['TV']] = sc.fit_transform(df[['TV']])\n",
    "df[['Radio']] = sc.fit_transform(df[['Radio']])\n",
    "df[['Newspaper']] = sc.fit_transform(df[['Newspaper']])\n",
    "df.head()"
   ]
  },
  {
   "cell_type": "markdown",
   "id": "NP7JPRIurZzD",
   "metadata": {
    "id": "NP7JPRIurZzD"
   },
   "source": [
    "## Linear Regression\n",
    "\n",
    "Linear regression is a powerful algorithm used for predicting continuous target variables based on input features. It assumes a linear relationship between the independent variables and the target variable, aiming to find the best-fitting line that minimizes the difference between the predicted and actual values. By analyzing this relationship, businesses can gain valuable insights into the factors influencing sales prices and make informed decisions about their advertising strategies. The algorithm learns the coefficients associated with each feature from the training data, allowing it to make accurate predictions on new data. Linear regression is widely used due to its simplicity, interpretability, and effectiveness in various domains, making it an essential tool for sales price prediction and regression tasks.\n"
   ]
  },
  {
   "cell_type": "code",
   "execution_count": 14,
   "id": "71c8fd74",
   "metadata": {
    "colab": {
     "base_uri": "https://localhost:8080/",
     "height": 74
    },
    "executionInfo": {
     "elapsed": 9,
     "status": "ok",
     "timestamp": 1687077867966,
     "user": {
      "displayName": "ibrahim parkar",
      "userId": "08813320457498580260"
     },
     "user_tz": -330
    },
    "id": "71c8fd74",
    "outputId": "e14f5fd8-ecfd-4730-9125-99fad7c288ff",
    "papermill": {
     "duration": 0.110387,
     "end_time": "2023-01-02T17:39:20.555185",
     "exception": false,
     "start_time": "2023-01-02T17:39:20.444798",
     "status": "completed"
    },
    "tags": []
   },
   "outputs": [
    {
     "name": "stdout",
     "output_type": "stream",
     "text": [
      "MAE: 1.1999696198965595\n",
      "RMSE: 1.4627859249075434\n",
      "R-Squared 0.9177562774730732\n"
     ]
    }
   ],
   "source": [
    "# Utilizing the `train_test_split` function from the `sklearn.model_selection` module to split the data into training and testing sets.\n",
    "# Assigning the variables `x_train`, `x_test`, `x_train`, and `x_test` to the results of the `train_test_split` function.\n",
    "#`X` represents the feature matrix, and `x` represents the target variable.\n",
    "# Setting the `test_size` parameter to 0.20, indicating that we want to allocate 30% of the data for testing, while using the remaining 80% for training.\n",
    "# Additionally, setting the `random_state` parameter to 43 to ensure the same random split is obtained every time the code is run, providing reproducibility of the results.\n",
    "# Assigning the feature matrix and target variable\n",
    "X= df[['TV','Radio','Newspaper']]\n",
    "y= df['Sales']\n",
    "\n",
    "from sklearn.model_selection import train_test_split\n",
    "X_train,X_test,y_train,y_test=train_test_split(X,y,test_size=0.2,random_state=43)\n",
    "\n",
    "from sklearn.preprocessing import StandardScaler  # Importing the StandardScaler class from sklearn.preprocessing module.\n",
    "Sc = StandardScaler()  # Creating an instance of the StandardScaler class.\n",
    "X_train_scaled=Sc.fit_transform(X_train)  # Scaling/transforming the X_train data using the fit_transform method of StandardScaler.\n",
    "X_test_scaled=Sc.fit_transform(X_test)  # Scaling/transforming the X_test data using the fit_transform method of StandardScaler.\n",
    "\n",
    "from sklearn.linear_model import LinearRegression # Importing the `LinearRegression` class from the `sklearn.linear_model` module\n",
    "lr=LinearRegression() # Creating an instance of the linear regression model using the `LinearRegression` class.\n",
    "lr.fit(X_train_scaled,y_train)# Fitting the linear regression model to the scaled training data\n",
    "y_pred=lr.predict(X_test_scaled) # Using the trained linear regression model (lr) to predict the target variable\n",
    "# Lets evaluate the model for its accuracy using various metrics such as RMSE and R-Squared\n",
    "from sklearn import metrics # Importing the metrics module from the sklearn library\n",
    "\n",
    "print('MAE:',metrics.mean_absolute_error(y_pred,y_test))\n",
    "print('RMSE:',np.sqrt(metrics.mean_squared_error(y_pred,y_test)))\n",
    "print('R-Squared',metrics.r2_score(y_pred,y_test))"
   ]
  },
  {
   "cell_type": "markdown",
   "id": "zq2a0SMutRfG",
   "metadata": {
    "id": "zq2a0SMutRfG"
   },
   "source": [
    "## More Models\n",
    "\n",
    "Since we have achieved a 91.78% accuracy with the linear regression model, we can further enhance our predictions by incorporating different models. Let's explore the implementation of different model and evaluate their effectiveness in achieving higher accuracy in our sales price prediction task."
   ]
  },
  {
   "cell_type": "code",
   "execution_count": 15,
   "id": "255bc983-fa24-420f-9153-739f102394b2",
   "metadata": {
    "scrolled": true
   },
   "outputs": [
    {
     "name": "stdout",
     "output_type": "stream",
     "text": [
      "Model: Ridge Regression\n",
      "MAE: 1.2011359777796375\n",
      "RMSE: 1.4651593672417957\n",
      "R-Squared: 0.9254257682285773\n",
      "\n",
      "Model: Lasso Regression\n",
      "MAE: 1.561692232662009\n",
      "RMSE: 2.1015996449063965\n",
      "R-Squared: 0.8465669108838352\n",
      "\n",
      "Model: Decision Tree Regressor\n",
      "MAE: 0.6899999999999998\n",
      "RMSE: 0.906366371838673\n",
      "R-Squared: 0.9714617969340973\n",
      "\n",
      "Model: Random Forest Regressor\n",
      "MAE: 0.5634000000000003\n",
      "RMSE: 0.7091290080091202\n",
      "R-Squared: 0.9825309391118419\n",
      "\n",
      "Model: Gradient Boosting Regressor\n",
      "MAE: 0.4861012023716853\n",
      "RMSE: 0.5941273545909384\n",
      "R-Squared: 0.9877375244898522\n",
      "\n",
      "Model: Extra Tree Regressor\n",
      "MAE: 0.46742499999999837\n",
      "RMSE: 0.5604928411674829\n",
      "R-Squared: 0.9890866220442421\n",
      "\n"
     ]
    }
   ],
   "source": [
    "from sklearn.linear_model import Ridge, Lasso\n",
    "from sklearn.tree import DecisionTreeRegressor\n",
    "from sklearn.ensemble import RandomForestRegressor, GradientBoostingRegressor, ExtraTreesRegressor\n",
    "\n",
    "# Initialize models\n",
    "ridge = Ridge()\n",
    "lasso = Lasso()\n",
    "decision_tree = DecisionTreeRegressor()\n",
    "random_forest = RandomForestRegressor()\n",
    "gradient_boosting = GradientBoostingRegressor()\n",
    "extra_trees = ExtraTreesRegressor()\n",
    "\n",
    "models = [ridge, lasso, decision_tree, random_forest, gradient_boosting, extra_trees]\n",
    "model_names = ['Ridge Regression', 'Lasso Regression', 'Decision Tree Regressor', \n",
    "               'Random Forest Regressor', 'Gradient Boosting Regressor', 'Extra Tree Regressor']\n",
    "\n",
    "for model, name in zip(models, model_names):\n",
    "    model.fit(X_train_scaled, y_train)\n",
    "    y_pred = model.predict(X_test_scaled)\n",
    "    \n",
    "    print(\"Model:\", name)\n",
    "    print('MAE:', metrics.mean_absolute_error(y_test, y_pred))\n",
    "    print('RMSE:', np.sqrt(metrics.mean_squared_error(y_test, y_pred)))\n",
    "    print('R-Squared:', metrics.r2_score(y_test, y_pred))\n",
    "    print()\n"
   ]
  },
  {
   "cell_type": "markdown",
   "id": "2P2R7xqV2Xm-",
   "metadata": {
    "id": "2P2R7xqV2Xm-"
   },
   "source": [
    "## Conclusion\n",
    "\r\n",
    "In summary, the Sales Prediction project leveraged linear regression and advanced ensemble techniques to develop robust machine learning models for forecasting product sales based on advertising investments. The dataset comprised key columns such as \"TV\", \"Radio\", \"Newspaper\", and \"Sales\".\r\n",
    "\r\n",
    "Through meticulous data preprocessing, model training, and evaluation, we successfully constructed a linear regression model capable of accurately predicting sales figures from advertising expenditures. This model exhibited a commendable accuracy of 92%, indicating its effectiveness in capturing the complex relationships between advertising channels and sales outcomes.\r\n",
    "\r\n",
    "Moreover, we explored the potential of more sophisticated models, ultimately identifying the Extra Tree Regressor as the top performer. This ensemble-based algorithm showcased exceptional performance, yielding a remarkable fit to the training data with an impressive R-squared score of 0.9885. To ensure generalization and mitigate overfitting, we further validated the Extra Tree Regressor model through cross-validation, achieving a low MAE value of 0.4367.\r\n",
    "\r\n",
    "The insights generated from this project are invaluable for businesses seeking to estimate future sales and optimize advertising budgets. By harnessing the predictive power of these models, businesses can make data-driven decisions regarding resource allocation and advertising strategies, thereby maximizing profitability and driving sustainable growth."
   ]
  }
 ],
 "metadata": {
  "colab": {
   "collapsed_sections": [
    "NP7JPRIurZzD",
    "zq2a0SMutRfG"
   ],
   "provenance": []
  },
  "kernelspec": {
   "display_name": "Python 3 (ipykernel)",
   "language": "python",
   "name": "python3"
  },
  "language_info": {
   "codemirror_mode": {
    "name": "ipython",
    "version": 3
   },
   "file_extension": ".py",
   "mimetype": "text/x-python",
   "name": "python",
   "nbconvert_exporter": "python",
   "pygments_lexer": "ipython3",
   "version": "3.11.7"
  },
  "papermill": {
   "default_parameters": {},
   "duration": 13.137774,
   "end_time": "2023-01-02T17:39:22.087407",
   "environment_variables": {},
   "exception": null,
   "input_path": "__notebook__.ipynb",
   "output_path": "__notebook__.ipynb",
   "parameters": {},
   "start_time": "2023-01-02T17:39:08.949633",
   "version": "2.3.4"
  },
  "widgets": {
   "application/vnd.jupyter.widget-state+json": {
    "09e7b113036d4d3c8f32279b84e9d060": {
     "model_module": "@jupyter-widgets/controls",
     "model_module_version": "1.5.0",
     "model_name": "HTMLModel",
     "state": {
      "_dom_classes": [],
      "_model_module": "@jupyter-widgets/controls",
      "_model_module_version": "1.5.0",
      "_model_name": "HTMLModel",
      "_view_count": null,
      "_view_module": "@jupyter-widgets/controls",
      "_view_module_version": "1.5.0",
      "_view_name": "HTMLView",
      "description": "",
      "description_tooltip": null,
      "layout": "IPY_MODEL_b4f8567b32ea4e15be0dedc420e2859a",
      "placeholder": "​",
      "style": "IPY_MODEL_a28f91d550e74aedb5059c55bf30080f",
      "value": " 3/4 [00:07&lt;00:02,  2.49s/it]"
     }
    },
    "0bd0bdd1a3df4be3aeff124007d30b95": {
     "model_module": "@jupyter-widgets/controls",
     "model_module_version": "1.5.0",
     "model_name": "DescriptionStyleModel",
     "state": {
      "_model_module": "@jupyter-widgets/controls",
      "_model_module_version": "1.5.0",
      "_model_name": "DescriptionStyleModel",
      "_view_count": null,
      "_view_module": "@jupyter-widgets/base",
      "_view_module_version": "1.2.0",
      "_view_name": "StyleView",
      "description_width": ""
     }
    },
    "0c8cc75af7c049998c6efbdec2667a31": {
     "model_module": "@jupyter-widgets/controls",
     "model_module_version": "1.5.0",
     "model_name": "ProgressStyleModel",
     "state": {
      "_model_module": "@jupyter-widgets/controls",
      "_model_module_version": "1.5.0",
      "_model_name": "ProgressStyleModel",
      "_view_count": null,
      "_view_module": "@jupyter-widgets/base",
      "_view_module_version": "1.2.0",
      "_view_name": "StyleView",
      "bar_color": null,
      "description_width": ""
     }
    },
    "3086759f9a5742fa8f9b94790d06e549": {
     "model_module": "@jupyter-widgets/base",
     "model_module_version": "1.2.0",
     "model_name": "LayoutModel",
     "state": {
      "_model_module": "@jupyter-widgets/base",
      "_model_module_version": "1.2.0",
      "_model_name": "LayoutModel",
      "_view_count": null,
      "_view_module": "@jupyter-widgets/base",
      "_view_module_version": "1.2.0",
      "_view_name": "LayoutView",
      "align_content": null,
      "align_items": null,
      "align_self": null,
      "border": null,
      "bottom": null,
      "display": null,
      "flex": null,
      "flex_flow": null,
      "grid_area": null,
      "grid_auto_columns": null,
      "grid_auto_flow": null,
      "grid_auto_rows": null,
      "grid_column": null,
      "grid_gap": null,
      "grid_row": null,
      "grid_template_areas": null,
      "grid_template_columns": null,
      "grid_template_rows": null,
      "height": null,
      "justify_content": null,
      "justify_items": null,
      "left": null,
      "margin": null,
      "max_height": null,
      "max_width": null,
      "min_height": null,
      "min_width": null,
      "object_fit": null,
      "object_position": null,
      "order": null,
      "overflow": null,
      "overflow_x": null,
      "overflow_y": null,
      "padding": null,
      "right": null,
      "top": null,
      "visibility": null,
      "width": null
     }
    },
    "69c71f94ffbd417dbac65140c65f6dac": {
     "model_module": "@jupyter-widgets/controls",
     "model_module_version": "1.5.0",
     "model_name": "FloatProgressModel",
     "state": {
      "_dom_classes": [],
      "_model_module": "@jupyter-widgets/controls",
      "_model_module_version": "1.5.0",
      "_model_name": "FloatProgressModel",
      "_view_count": null,
      "_view_module": "@jupyter-widgets/controls",
      "_view_module_version": "1.5.0",
      "_view_name": "ProgressView",
      "bar_style": "",
      "description": "",
      "description_tooltip": null,
      "layout": "IPY_MODEL_b889689e53fa4c55b1952cf70ea245f0",
      "max": 4,
      "min": 0,
      "orientation": "horizontal",
      "style": "IPY_MODEL_0c8cc75af7c049998c6efbdec2667a31",
      "value": 4
     }
    },
    "87a046147d3b470a94b5a1f1f74cdcf7": {
     "model_module": "@jupyter-widgets/controls",
     "model_module_version": "1.5.0",
     "model_name": "HTMLModel",
     "state": {
      "_dom_classes": [],
      "_model_module": "@jupyter-widgets/controls",
      "_model_module_version": "1.5.0",
      "_model_name": "HTMLModel",
      "_view_count": null,
      "_view_module": "@jupyter-widgets/controls",
      "_view_module_version": "1.5.0",
      "_view_name": "HTMLView",
      "description": "",
      "description_tooltip": null,
      "layout": "IPY_MODEL_3086759f9a5742fa8f9b94790d06e549",
      "placeholder": "​",
      "style": "IPY_MODEL_0bd0bdd1a3df4be3aeff124007d30b95",
      "value": "Processing:  75%"
     }
    },
    "9387a63f211c4b1aa0706fa6b0a64e66": {
     "model_module": "@jupyter-widgets/base",
     "model_module_version": "1.2.0",
     "model_name": "LayoutModel",
     "state": {
      "_model_module": "@jupyter-widgets/base",
      "_model_module_version": "1.2.0",
      "_model_name": "LayoutModel",
      "_view_count": null,
      "_view_module": "@jupyter-widgets/base",
      "_view_module_version": "1.2.0",
      "_view_name": "LayoutView",
      "align_content": null,
      "align_items": null,
      "align_self": null,
      "border": null,
      "bottom": null,
      "display": null,
      "flex": null,
      "flex_flow": null,
      "grid_area": null,
      "grid_auto_columns": null,
      "grid_auto_flow": null,
      "grid_auto_rows": null,
      "grid_column": null,
      "grid_gap": null,
      "grid_row": null,
      "grid_template_areas": null,
      "grid_template_columns": null,
      "grid_template_rows": null,
      "height": null,
      "justify_content": null,
      "justify_items": null,
      "left": null,
      "margin": null,
      "max_height": null,
      "max_width": null,
      "min_height": null,
      "min_width": null,
      "object_fit": null,
      "object_position": null,
      "order": null,
      "overflow": null,
      "overflow_x": null,
      "overflow_y": null,
      "padding": null,
      "right": null,
      "top": null,
      "visibility": "hidden",
      "width": null
     }
    },
    "a28f91d550e74aedb5059c55bf30080f": {
     "model_module": "@jupyter-widgets/controls",
     "model_module_version": "1.5.0",
     "model_name": "DescriptionStyleModel",
     "state": {
      "_model_module": "@jupyter-widgets/controls",
      "_model_module_version": "1.5.0",
      "_model_name": "DescriptionStyleModel",
      "_view_count": null,
      "_view_module": "@jupyter-widgets/base",
      "_view_module_version": "1.2.0",
      "_view_name": "StyleView",
      "description_width": ""
     }
    },
    "b4f8567b32ea4e15be0dedc420e2859a": {
     "model_module": "@jupyter-widgets/base",
     "model_module_version": "1.2.0",
     "model_name": "LayoutModel",
     "state": {
      "_model_module": "@jupyter-widgets/base",
      "_model_module_version": "1.2.0",
      "_model_name": "LayoutModel",
      "_view_count": null,
      "_view_module": "@jupyter-widgets/base",
      "_view_module_version": "1.2.0",
      "_view_name": "LayoutView",
      "align_content": null,
      "align_items": null,
      "align_self": null,
      "border": null,
      "bottom": null,
      "display": null,
      "flex": null,
      "flex_flow": null,
      "grid_area": null,
      "grid_auto_columns": null,
      "grid_auto_flow": null,
      "grid_auto_rows": null,
      "grid_column": null,
      "grid_gap": null,
      "grid_row": null,
      "grid_template_areas": null,
      "grid_template_columns": null,
      "grid_template_rows": null,
      "height": null,
      "justify_content": null,
      "justify_items": null,
      "left": null,
      "margin": null,
      "max_height": null,
      "max_width": null,
      "min_height": null,
      "min_width": null,
      "object_fit": null,
      "object_position": null,
      "order": null,
      "overflow": null,
      "overflow_x": null,
      "overflow_y": null,
      "padding": null,
      "right": null,
      "top": null,
      "visibility": null,
      "width": null
     }
    },
    "b889689e53fa4c55b1952cf70ea245f0": {
     "model_module": "@jupyter-widgets/base",
     "model_module_version": "1.2.0",
     "model_name": "LayoutModel",
     "state": {
      "_model_module": "@jupyter-widgets/base",
      "_model_module_version": "1.2.0",
      "_model_name": "LayoutModel",
      "_view_count": null,
      "_view_module": "@jupyter-widgets/base",
      "_view_module_version": "1.2.0",
      "_view_name": "LayoutView",
      "align_content": null,
      "align_items": null,
      "align_self": null,
      "border": null,
      "bottom": null,
      "display": null,
      "flex": null,
      "flex_flow": null,
      "grid_area": null,
      "grid_auto_columns": null,
      "grid_auto_flow": null,
      "grid_auto_rows": null,
      "grid_column": null,
      "grid_gap": null,
      "grid_row": null,
      "grid_template_areas": null,
      "grid_template_columns": null,
      "grid_template_rows": null,
      "height": null,
      "justify_content": null,
      "justify_items": null,
      "left": null,
      "margin": null,
      "max_height": null,
      "max_width": null,
      "min_height": null,
      "min_width": null,
      "object_fit": null,
      "object_position": null,
      "order": null,
      "overflow": null,
      "overflow_x": null,
      "overflow_y": null,
      "padding": null,
      "right": null,
      "top": null,
      "visibility": null,
      "width": null
     }
    },
    "b92977cbb9c94aa589171548627996f5": {
     "model_module": "@jupyter-widgets/controls",
     "model_module_version": "1.5.0",
     "model_name": "HBoxModel",
     "state": {
      "_dom_classes": [],
      "_model_module": "@jupyter-widgets/controls",
      "_model_module_version": "1.5.0",
      "_model_name": "HBoxModel",
      "_view_count": null,
      "_view_module": "@jupyter-widgets/controls",
      "_view_module_version": "1.5.0",
      "_view_name": "HBoxView",
      "box_style": "",
      "children": [
       "IPY_MODEL_87a046147d3b470a94b5a1f1f74cdcf7",
       "IPY_MODEL_69c71f94ffbd417dbac65140c65f6dac",
       "IPY_MODEL_09e7b113036d4d3c8f32279b84e9d060"
      ],
      "layout": "IPY_MODEL_9387a63f211c4b1aa0706fa6b0a64e66"
     }
    }
   }
  }
 },
 "nbformat": 4,
 "nbformat_minor": 5
}
